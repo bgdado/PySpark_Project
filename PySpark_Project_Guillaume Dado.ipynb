{
 "cells": [
  {
   "cell_type": "markdown",
   "id": "e45e6627",
   "metadata": {},
   "source": [
    "## Importing SparkSession and loading our dataset"
   ]
  },
  {
   "cell_type": "code",
   "execution_count": 75,
   "id": "62bbd27a",
   "metadata": {},
   "outputs": [],
   "source": [
    "from pyspark.sql import SparkSession\n",
    "import matplotlib.pyplot as plt\n",
    "import pandas as pd\n",
    "import seaborn as sns\n",
    "import numpy as np"
   ]
  },
  {
   "cell_type": "code",
   "execution_count": 2,
   "id": "b58bd46c",
   "metadata": {},
   "outputs": [],
   "source": [
    "spark = SparkSession.builder.appName(\"diabetes\").getOrCreate()"
   ]
  },
  {
   "cell_type": "code",
   "execution_count": 24,
   "id": "0df0509f",
   "metadata": {},
   "outputs": [],
   "source": [
    "df = spark.read.csv(\"C:\\\\Users\\\\Asus\\\\Documents\\\\NEW Apprenticeship\\\\Big Data with PySpark\\\\Portfolio project_data\\\\statedesclbs_full.csv\", header=True, inferSchema=True)"
   ]
  },
  {
   "cell_type": "code",
   "execution_count": 25,
   "id": "6ca1240e",
   "metadata": {},
   "outputs": [
    {
     "name": "stdout",
     "output_type": "stream",
     "text": [
      "+-----+----------+--------------------+--------------------+--------------------+-----------+--------------------+--------------+--------------+--------------------+--------------+--------+-------------+----+-------------+\n",
      "|state|    county|             company|            sitename|             factype|       city|           unit_type|          scc1|        sector| process_description|pollutant_desc| emis_lb|emissions_uom|fuel|broadcategory|\n",
      "+-----+----------+--------------------+--------------------+--------------------+-----------+--------------------+--------------+--------------+--------------------+--------------+--------+-------------+----+-------------+\n",
      "|   CA| San Mateo|SUNQUEST PROPERTI...|SUNQUEST PROPERTI...|                null|   BRISBANE|        Unclassified|Waste Disposal|Waste Disposal|BRISBANE LANDFILL...|       Mercury|0.003591|           LB|null|           NA|\n",
      "|   KY| Jefferson|Louisville Gas & ...|Louisville Gas & ...|Electricity Gener...| LOUISVILLE|Other bulk materi...|Waste Disposal|Waste Disposal|E13-Flyash Silo A...|       Mercury|  0.0029|           LB|null|           NA|\n",
      "|   CA|Stanislaus|CITY OF MODESTO/F...|CITY OF MODESTO, ...|                null|    SJVAPCD|        Unclassified|Waste Disposal|Waste Disposal| GRINDING & HANDLING|       Mercury|  0.0211|           LB|null|           NA|\n",
      "|   CA|      Kern|EDWARDS AIR FORCE...|EDWARDS AIR FORCE...|       Military Base|EDWARDS AFB|        Unclassified|Waste Disposal|Waste Disposal|                LAND|       Mercury|  0.0021|           LB|null|           NA|\n",
      "|   NC|Cumberland|HQ XVIII ABN Corp...|HQ XVIII ABN Corp...|       Military Base| Fort Bragg|Open Air Fugitive...|Waste Disposal|Waste Disposal|Fugitive Emission...|       Mercury|   0.012|           LB|null|           NA|\n",
      "|   LA|   Webster|      Stericycle Inc|Stericycle Inc - ...|                null|    Sarepta|         Incinerator|Waste Disposal|Waste Disposal|1A-10 - Medical W...|       Mercury|0.019739|           LB|null|           NA|\n",
      "|   NC|    Gaston|Duke Energy Carol...|Duke Energy Carol...|Electricity Gener...|    Belmont|Other bulk materi...|Waste Disposal|Waste Disposal|Ash silo bagfilte...|       Mercury|  1.0E-4|           LB|null|           NA|\n",
      "|   NC|    Gaston|Duke Energy Carol...|Duke Energy Carol...|Electricity Gener...|    Belmont|Other bulk materi...|Waste Disposal|Waste Disposal|Dry ash filter se...|       Mercury|  6.0E-5|           LB|null|           NA|\n",
      "|   NY| Jefferson| INNOVATIVE/DANC LLC|     INNOVATIVE DANC|                null|     RODMAN|Reciprocating IC ...|Waste Disposal|Waste Disposal|                null|       Mercury|    0.01|           LB|null|           NA|\n",
      "|   MN|    Ramsey|                  Na|Met Council Metro...|Wastewater Treatm...| Saint Paul|Open Air Fugitive...|Waste Disposal|Waste Disposal|Alkaline Stabizat...|       Mercury|1.267E-4|           LB|null|           NA|\n",
      "+-----+----------+--------------------+--------------------+--------------------+-----------+--------------------+--------------+--------------+--------------------+--------------+--------+-------------+----+-------------+\n",
      "only showing top 10 rows\n",
      "\n"
     ]
    }
   ],
   "source": [
    "df.show(10)"
   ]
  },
  {
   "cell_type": "markdown",
   "id": "57b39444",
   "metadata": {},
   "source": [
    "## Printing the Schema of our dataset"
   ]
  },
  {
   "cell_type": "code",
   "execution_count": 26,
   "id": "34fc8d57",
   "metadata": {},
   "outputs": [
    {
     "name": "stdout",
     "output_type": "stream",
     "text": [
      "root\n",
      " |-- state: string (nullable = true)\n",
      " |-- county: string (nullable = true)\n",
      " |-- company: string (nullable = true)\n",
      " |-- sitename: string (nullable = true)\n",
      " |-- factype: string (nullable = true)\n",
      " |-- city: string (nullable = true)\n",
      " |-- unit_type: string (nullable = true)\n",
      " |-- scc1: string (nullable = true)\n",
      " |-- sector: string (nullable = true)\n",
      " |-- process_description: string (nullable = true)\n",
      " |-- pollutant_desc: string (nullable = true)\n",
      " |-- emis_lb: double (nullable = true)\n",
      " |-- emissions_uom: string (nullable = true)\n",
      " |-- fuel: string (nullable = true)\n",
      " |-- broadcategory: string (nullable = true)\n",
      "\n"
     ]
    }
   ],
   "source": [
    "df.printSchema()"
   ]
  },
  {
   "cell_type": "markdown",
   "id": "1dc83bdc",
   "metadata": {},
   "source": [
    "## Dropping unwanted columns"
   ]
  },
  {
   "cell_type": "code",
   "execution_count": 33,
   "id": "23c5eebb",
   "metadata": {},
   "outputs": [
    {
     "name": "stdout",
     "output_type": "stream",
     "text": [
      "+-----+----------+-----------+--------------+--------+\n",
      "|state|    county|       city|          scc1| emis_lb|\n",
      "+-----+----------+-----------+--------------+--------+\n",
      "|   CA| San Mateo|   BRISBANE|Waste Disposal|0.003591|\n",
      "|   KY| Jefferson| LOUISVILLE|Waste Disposal|  0.0029|\n",
      "|   CA|Stanislaus|    SJVAPCD|Waste Disposal|  0.0211|\n",
      "|   CA|      Kern|EDWARDS AFB|Waste Disposal|  0.0021|\n",
      "|   NC|Cumberland| Fort Bragg|Waste Disposal|   0.012|\n",
      "|   LA|   Webster|    Sarepta|Waste Disposal|0.019739|\n",
      "|   NC|    Gaston|    Belmont|Waste Disposal|  1.0E-4|\n",
      "|   NC|    Gaston|    Belmont|Waste Disposal|  6.0E-5|\n",
      "|   NY| Jefferson|     RODMAN|Waste Disposal|    0.01|\n",
      "|   MN|    Ramsey| Saint Paul|Waste Disposal|1.267E-4|\n",
      "+-----+----------+-----------+--------------+--------+\n",
      "only showing top 10 rows\n",
      "\n"
     ]
    }
   ],
   "source": [
    "df1 = df.drop(\"company\",\"sitename\",\"factype\",\"unit_type\",\"sector\",\"process_description\",\"process_description\",\"pollutant_desc\",\"emissions_uom\",\"fuel\",\"broadcategory\")\n",
    "df1.show(10)"
   ]
  },
  {
   "cell_type": "code",
   "execution_count": null,
   "id": "e7bbbdef",
   "metadata": {},
   "outputs": [],
   "source": []
  },
  {
   "cell_type": "code",
   "execution_count": 110,
   "id": "354ac103",
   "metadata": {},
   "outputs": [
    {
     "name": "stdout",
     "output_type": "stream",
     "text": [
      "+-------+-----+---------+---------+--------------------+------------------+\n",
      "|summary|state|   county|     city|                scc1|           emis_lb|\n",
      "+-------+-----+---------+---------+--------------------+------------------+\n",
      "|  count|23891|    23891|    23886|               23899|             23899|\n",
      "|   mean| null|     null|     null|                null|0.8163420367118884|\n",
      "| stddev| null|     null|     null|                null| 7.924938913906276|\n",
      "|    min|   AK|Abbeville|ABBEVILLE|Chemical Evaporation|          1.63E-15|\n",
      "|    max|   WY|     Yuma|     luka|      Waste Disposal|            507.72|\n",
      "+-------+-----+---------+---------+--------------------+------------------+\n",
      "\n"
     ]
    }
   ],
   "source": [
    "df11 = df1.dropna()\n",
    "df11 = df1.describe().show()"
   ]
  },
  {
   "cell_type": "markdown",
   "id": "bf536ad0",
   "metadata": {},
   "source": [
    "## Checking for missing values"
   ]
  },
  {
   "cell_type": "code",
   "execution_count": 111,
   "id": "aaf55b78",
   "metadata": {},
   "outputs": [],
   "source": [
    "from pyspark.sql.functions import isnan, when, count, col"
   ]
  },
  {
   "cell_type": "code",
   "execution_count": 114,
   "id": "0428f327",
   "metadata": {},
   "outputs": [
    {
     "data": {
      "text/html": [
       "<div>\n",
       "<style scoped>\n",
       "    .dataframe tbody tr th:only-of-type {\n",
       "        vertical-align: middle;\n",
       "    }\n",
       "\n",
       "    .dataframe tbody tr th {\n",
       "        vertical-align: top;\n",
       "    }\n",
       "\n",
       "    .dataframe thead th {\n",
       "        text-align: right;\n",
       "    }\n",
       "</style>\n",
       "<table border=\"1\" class=\"dataframe\">\n",
       "  <thead>\n",
       "    <tr style=\"text-align: right;\">\n",
       "      <th></th>\n",
       "      <th>state</th>\n",
       "      <th>county</th>\n",
       "      <th>city</th>\n",
       "      <th>scc1</th>\n",
       "      <th>emis_lb</th>\n",
       "    </tr>\n",
       "  </thead>\n",
       "  <tbody>\n",
       "    <tr>\n",
       "      <th>0</th>\n",
       "      <td>0</td>\n",
       "      <td>0</td>\n",
       "      <td>0</td>\n",
       "      <td>0</td>\n",
       "      <td>0</td>\n",
       "    </tr>\n",
       "  </tbody>\n",
       "</table>\n",
       "</div>"
      ],
      "text/plain": [
       "   state  county  city  scc1  emis_lb\n",
       "0      0       0     0     0        0"
      ]
     },
     "execution_count": 114,
     "metadata": {},
     "output_type": "execute_result"
    }
   ],
   "source": [
    "df1.select([count(when(isnan(c),c)).alias(c) for c in df1.columns]).toPandas().head()"
   ]
  },
  {
   "cell_type": "markdown",
   "id": "d5836a62",
   "metadata": {},
   "source": [
    "#### No missing values in our dataset per the above result"
   ]
  },
  {
   "cell_type": "markdown",
   "id": "e79ad76e",
   "metadata": {},
   "source": [
    "## Renaming the column \"scc1\" to \"pollution_type\""
   ]
  },
  {
   "cell_type": "code",
   "execution_count": 115,
   "id": "9142a099",
   "metadata": {},
   "outputs": [
    {
     "name": "stdout",
     "output_type": "stream",
     "text": [
      "+-----+----------+-----------+--------------+--------+\n",
      "|state|    county|       city|pollution_type| emis_lb|\n",
      "+-----+----------+-----------+--------------+--------+\n",
      "|   CA| San Mateo|   BRISBANE|Waste Disposal|0.003591|\n",
      "|   KY| Jefferson| LOUISVILLE|Waste Disposal|  0.0029|\n",
      "|   CA|Stanislaus|    SJVAPCD|Waste Disposal|  0.0211|\n",
      "|   CA|      Kern|EDWARDS AFB|Waste Disposal|  0.0021|\n",
      "|   NC|Cumberland| Fort Bragg|Waste Disposal|   0.012|\n",
      "|   LA|   Webster|    Sarepta|Waste Disposal|0.019739|\n",
      "|   NC|    Gaston|    Belmont|Waste Disposal|  1.0E-4|\n",
      "|   NC|    Gaston|    Belmont|Waste Disposal|  6.0E-5|\n",
      "|   NY| Jefferson|     RODMAN|Waste Disposal|    0.01|\n",
      "|   MN|    Ramsey| Saint Paul|Waste Disposal|1.267E-4|\n",
      "+-----+----------+-----------+--------------+--------+\n",
      "only showing top 10 rows\n",
      "\n"
     ]
    }
   ],
   "source": [
    "df11 = df1.withColumnRenamed(\"scc1\",\"pollution_type\")\n",
    "df11.show(10)"
   ]
  },
  {
   "cell_type": "markdown",
   "id": "32b500cd",
   "metadata": {},
   "source": [
    "## Total pollution per pollution type"
   ]
  },
  {
   "cell_type": "code",
   "execution_count": 116,
   "id": "19959da5",
   "metadata": {},
   "outputs": [
    {
     "name": "stdout",
     "output_type": "stream",
     "text": [
      "+--------------------+------------------+\n",
      "|      pollution_type|      sum(emis_lb)|\n",
      "+--------------------+------------------+\n",
      "|External Combusti...|10523.830574572212|\n",
      "|      Waste Disposal|    258.1772662188|\n",
      "|Internal Combusti...| 2085.406008318818|\n",
      "| External Combustion|2.8452651073999995|\n",
      "|Industrial Processes| 6612.858238258148|\n",
      "|Chemical Evaporation|26.640982902001635|\n",
      "+--------------------+------------------+\n",
      "\n"
     ]
    }
   ],
   "source": [
    "dfTP = df11.groupBy(\"pollution_type\").sum(\"emis_lb\")\n",
    "dfTP.show()"
   ]
  },
  {
   "cell_type": "code",
   "execution_count": 81,
   "id": "d1c75289",
   "metadata": {},
   "outputs": [
    {
     "data": {
      "image/png": "[encoded data removed]",
      "text/plain": [
       "<Figure size 1152x648 with 1 Axes>"
      ]
     },
     "metadata": {},
     "output_type": "display_data"
    }
   ],
   "source": [
    "x = dfTP.toPandas()[\"pollution_type\"].values.tolist()\n",
    "y = dfTP.toPandas()[\"sum(emis_lb)\"].values.tolist()    \n",
    "plt.bar(x,y)\n",
    "plt.title(\"Total pollution per pollution type\")\n",
    "plt.xlabel(\"Pollution_type\")\n",
    "plt.ylabel(\"Total Emission\")\n",
    "plt.show()"
   ]
  },
  {
   "cell_type": "markdown",
   "id": "20a49f0b",
   "metadata": {},
   "source": [
    "## Top 10 most polluted state"
   ]
  },
  {
   "cell_type": "code",
   "execution_count": 117,
   "id": "1cad45d2",
   "metadata": {},
   "outputs": [
    {
     "name": "stdout",
     "output_type": "stream",
     "text": [
      "+-----+------------------+\n",
      "|state|      sum(emis_lb)|\n",
      "+-----+------------------+\n",
      "|   TX|2930.8011729858003|\n",
      "|   PA| 1942.396941493003|\n",
      "|   IN|1452.4571567399996|\n",
      "|   CA|1176.3362286975291|\n",
      "|   LA| 975.7269379466985|\n",
      "|   OH| 974.1722518069997|\n",
      "|   ND|      914.22970644|\n",
      "|   WY| 745.8994532430002|\n",
      "|   IL|   704.56074426461|\n",
      "|   NC| 625.8312520159994|\n",
      "+-----+------------------+\n",
      "only showing top 10 rows\n",
      "\n"
     ]
    }
   ],
   "source": [
    "dfState = df11.groupBy(\"state\").sum(\"emis_lb\").orderBy(col(\"sum(emis_lb)\").desc())\n",
    "dfState.show(10)"
   ]
  },
  {
   "cell_type": "markdown",
   "id": "66ef8e47",
   "metadata": {},
   "source": [
    "## Top 10 most polluted city"
   ]
  },
  {
   "cell_type": "code",
   "execution_count": 118,
   "id": "ff198c02",
   "metadata": {},
   "outputs": [
    {
     "name": "stdout",
     "output_type": "stream",
     "text": [
      "+-------------+------------------+\n",
      "|         city|      sum(emis_lb)|\n",
      "+-------------+------------------+\n",
      "|    PALMERTON| 987.0000000000002|\n",
      "| Burns Harbor| 730.0925014510001|\n",
      "|     Gramercy|       505.5830573|\n",
      "|SLIPPERY ROCK|             443.6|\n",
      "|     CLAYPOOL|387.79999999999995|\n",
      "|    Underwood|          313.5023|\n",
      "|       Aurora| 312.5733865561999|\n",
      "|    FAIRFIELD|     280.455013254|\n",
      "|    Waterford|            279.37|\n",
      "|   HEALDSBURG|     279.000119105|\n",
      "+-------------+------------------+\n",
      "only showing top 10 rows\n",
      "\n"
     ]
    }
   ],
   "source": [
    "dfC = df11.groupBy(\"city\").sum(\"emis_lb\").orderBy(col(\"sum(emis_lb)\").desc()).show(10)"
   ]
  },
  {
   "cell_type": "markdown",
   "id": "b8202c94",
   "metadata": {},
   "source": [
    "## Most polluted County"
   ]
  },
  {
   "cell_type": "code",
   "execution_count": 134,
   "id": "b2b3b498",
   "metadata": {},
   "outputs": [
    {
     "name": "stdout",
     "output_type": "stream",
     "text": [
      "+------+------------------+\n",
      "|county|      sum(emis_lb)|\n",
      "+------+------------------+\n",
      "|Carbon|1137.3770796700005|\n",
      "+------+------------------+\n",
      "only showing top 1 row\n",
      "\n"
     ]
    }
   ],
   "source": [
    "dfCo = df11.groupBy(\"county\").sum(\"emis_lb\").orderBy(col(\"sum(emis_lb)\").desc()).show(1)"
   ]
  },
  {
   "cell_type": "code",
   "execution_count": null,
   "id": "9d833031",
   "metadata": {},
   "outputs": [],
   "source": []
  }
 ],
 "metadata": {
  "kernelspec": {
   "display_name": "Python 3 (ipykernel)",
   "language": "python",
   "name": "python3"
  },
  "language_info": {
   "codemirror_mode": {
    "name": "ipython",
    "version": 3
   },
   "file_extension": ".py",
   "mimetype": "text/x-python",
   "name": "python",
   "nbconvert_exporter": "python",
   "pygments_lexer": "ipython3",
   "version": "3.9.7"
  }
 },
 "nbformat": 4,
 "nbformat_minor": 5
}
